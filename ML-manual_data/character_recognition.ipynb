{
 "cells": [
  {
   "cell_type": "code",
   "execution_count": 6,
   "id": "84013600-28aa-4ffc-ad6a-15d13d9ff37f",
   "metadata": {},
   "outputs": [
    {
     "name": "stderr",
     "output_type": "stream",
     "text": [
      "C:\\Users\\91869\\anaconda3\\Lib\\site-packages\\sklearn\\neural_network\\_multilayer_perceptron.py:690: ConvergenceWarning: Stochastic Optimizer: Maximum iterations (300) reached and the optimization hasn't converged yet.\n",
      "  warnings.warn(\n"
     ]
    },
    {
     "name": "stdout",
     "output_type": "stream",
     "text": [
      "Test accuracy: 0.9611\n",
      "Example test prediction:\n",
      "True label: 6\n",
      "Predicted label: 6\n",
      "\n",
      "Enter 16 pixel values (between 0 and 1) separated by spaces:\n"
     ]
    },
    {
     "name": "stdin",
     "output_type": "stream",
     "text": [
      ">  0 0 0 0 0 0 0 0 0 0 0 0 0 0 0 0 0\n"
     ]
    },
    {
     "name": "stdout",
     "output_type": "stream",
     "text": [
      "Error: Please enter exactly 16 numbers.\n"
     ]
    },
    {
     "name": "stdin",
     "output_type": "stream",
     "text": [
      ">  0 0 0 0 0 0 0 0 0 0 0 0 0 0 0 0\n"
     ]
    },
    {
     "name": "stdout",
     "output_type": "stream",
     "text": [
      "Predicted digit: 4\n"
     ]
    }
   ],
   "source": [
    "from skimage.transform import resize\n",
    "from sklearn.datasets import load_digits\n",
    "from sklearn.model_selection import train_test_split\n",
    "from sklearn.neural_network import MLPClassifier\n",
    "import numpy as np\n",
    "\n",
    "# 1. Load digits dataset\n",
    "digits = load_digits()\n",
    "\n",
    "# 2. Downscale images to 4x4 pixels (16 features)\n",
    "def downscale(images, size=(4,4)):\n",
    "    return np.array([resize(img.reshape(8,8), size, anti_aliasing=True).flatten() for img in images])\n",
    "\n",
    "X_small = downscale(digits.data)\n",
    "y = digits.target\n",
    "\n",
    "# 3. Split into train and test sets\n",
    "X_train, X_test, y_train, y_test = train_test_split(X_small, y, test_size=0.2, random_state=42)\n",
    "\n",
    "# 4. Train MLP classifier\n",
    "mlp = MLPClassifier(hidden_layer_sizes=(100,), max_iter=300, random_state=42)\n",
    "mlp.fit(X_train, y_train)\n",
    "\n",
    "# 5. Print test accuracy to verify training\n",
    "print(f\"Test accuracy: {mlp.score(X_test, y_test):.4f}\")\n",
    "\n",
    "# 6. Predict on a random test sample (optional demo)\n",
    "print(\"Example test prediction:\")\n",
    "print(\"True label:\", y_test[0])\n",
    "print(\"Predicted label:\", mlp.predict(X_test[0].reshape(1, -1))[0])\n",
    "\n",
    "# 7. Manual input for prediction\n",
    "print(\"\\nEnter 16 pixel values (between 0 and 1) separated by spaces:\")\n",
    "\n",
    "while True:\n",
    "    user_input = input(\"> \")\n",
    "    try:\n",
    "        user_digit = np.array(list(map(float, user_input.strip().split())))\n",
    "        if user_digit.size != 16:\n",
    "            print(\"Error: Please enter exactly 16 numbers.\")\n",
    "            continue\n",
    "        if np.any(user_digit < 0) or np.any(user_digit > 1):\n",
    "            print(\"Error: All values must be between 0 and 1.\")\n",
    "            continue\n",
    "        user_digit = user_digit.reshape(1, -1)\n",
    "        prediction = mlp.predict(user_digit)[0]\n",
    "        print(f\"Predicted digit: {prediction}\")\n",
    "        break\n",
    "    except ValueError:\n",
    "        print(\"Invalid input. Please enter 16 numeric values separated by spaces.\")\n"
   ]
  },
  {
   "cell_type": "code",
   "execution_count": null,
   "id": "e3f08c51-fb37-40b3-8ea2-a1d8be01bb1e",
   "metadata": {},
   "outputs": [],
   "source": []
  }
 ],
 "metadata": {
  "kernelspec": {
   "display_name": "Python 3 (ipykernel)",
   "language": "python",
   "name": "python3"
  },
  "language_info": {
   "codemirror_mode": {
    "name": "ipython",
    "version": 3
   },
   "file_extension": ".py",
   "mimetype": "text/x-python",
   "name": "python",
   "nbconvert_exporter": "python",
   "pygments_lexer": "ipython3",
   "version": "3.12.7"
  }
 },
 "nbformat": 4,
 "nbformat_minor": 5
}
