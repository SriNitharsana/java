{
 "cells": [
  {
   "cell_type": "code",
   "execution_count": 1,
   "id": "1abf5e9d-1215-4ba2-b792-014e9141ebbc",
   "metadata": {},
   "outputs": [
    {
     "name": "stderr",
     "output_type": "stream",
     "text": [
      "Matplotlib is building the font cache; this may take a moment.\n"
     ]
    },
    {
     "name": "stdout",
     "output_type": "stream",
     "text": [
      "Enter your data points (X and y values). Enter 'done' when finished.\n"
     ]
    },
    {
     "name": "stdin",
     "output_type": "stream",
     "text": [
      "Enter X and y values separated by space (e.g., '1.0 2.5'):  1.0 2.5\n",
      "Enter X and y values separated by space (e.g., '1.0 2.5'):  1.0 2.5\n",
      "Enter X and y values separated by space (e.g., '1.0 2.5'):  1.0 2.5\n",
      "Enter X and y values separated by space (e.g., '1.0 2.5'):  1.0 2.5\n",
      "Enter X and y values separated by space (e.g., '1.0 2.5'):  1.0 2.5\n",
      "Enter X and y values separated by space (e.g., '1.0 2.5'):  1.0 2.5\n",
      "Enter X and y values separated by space (e.g., '1.0 2.5'):  1.0 2.5\n",
      "Enter X and y values separated by space (e.g., '1.0 2.5'):  1.0 2.5\n",
      "Enter X and y values separated by space (e.g., '1.0 2.5'):  done\n",
      "Enter the bandwidth parameter (tau) for the regression (e.g., 0.5):  0.6\n"
     ]
    },
    {
     "data": {
      "image/png": "[encoded data removed]",
      "text/plain": [
       "<Figure size 640x480 with 1 Axes>"
      ]
     },
     "metadata": {},
     "output_type": "display_data"
    }
   ],
   "source": [
    "import numpy as np\n",
    "import pandas as pd\n",
    "import matplotlib.pyplot as plt\n",
    "\n",
    "def gaussian_kernel(x, xi, tau):\n",
    "    return np.exp(-np.sum((x - xi) ** 2) / (2 * tau ** 2))\n",
    "\n",
    "def locally_weighted_regression(X, y, query_point, tau):\n",
    "    m, n = X.shape\n",
    "    W = np.zeros((m, m))\n",
    "    \n",
    "    for i in range(m):\n",
    "        W[i, i] = gaussian_kernel(query_point, X[i], tau)\n",
    "    \n",
    "    X_bias = np.hstack((np.ones((m, 1)), X))\n",
    "    query_point_bias = np.hstack(([1], query_point))\n",
    "    \n",
    "    XTWX = X_bias.T @ W @ X_bias\n",
    "    if np.linalg.det(XTWX) == 0.0:\n",
    "        theta = np.linalg.pinv(XTWX) @ X_bias.T @ W @ y\n",
    "    else:\n",
    "        theta = np.linalg.inv(XTWX) @ X_bias.T @ W @ y\n",
    "    \n",
    "    y_pred = query_point_bias @ theta\n",
    "    return y_pred\n",
    "\n",
    "# Manual input of data\n",
    "print(\"Enter your data points (X and y values). Enter 'done' when finished.\")\n",
    "data_points = []\n",
    "\n",
    "while True:\n",
    "    user_input = input(\"Enter X and y values separated by space (e.g., '1.0 2.5'): \")\n",
    "    if user_input.lower() == 'done':\n",
    "        break\n",
    "    try:\n",
    "        x_val, y_val = map(float, user_input.split())\n",
    "        data_points.append([x_val, y_val])\n",
    "    except:\n",
    "        print(\"Invalid input. Please enter two numbers separated by space.\")\n",
    "\n",
    "# Create DataFrame from input data\n",
    "data = pd.DataFrame(data_points, columns=['X', 'y'])\n",
    "X = data[['X']].values  # Must be 2D array\n",
    "y = data['y'].values\n",
    "\n",
    "if len(data_points) == 0:\n",
    "    print(\"No data points entered. Using default example data.\")\n",
    "    # Default example data if no input provided\n",
    "    X = np.array([[1], [2], [3], [4], [5]])\n",
    "    y = np.array([1, 3, 2, 5, 4])\n",
    "\n",
    "# Sort for plotting\n",
    "sorted_idx = np.argsort(X.ravel())\n",
    "X_sorted = X[sorted_idx]\n",
    "y_sorted = y[sorted_idx]\n",
    "\n",
    "# Get bandwidth parameter from user\n",
    "tau = float(input(\"Enter the bandwidth parameter (tau) for the regression (e.g., 0.5): \"))\n",
    "\n",
    "# Predict y values for all X using LWR\n",
    "y_pred = np.array([locally_weighted_regression(X, y, x_i, tau) for x_i in X])\n",
    "\n",
    "# Plot original data and LWR fit\n",
    "plt.scatter(X, y, label=\"Data points\", color='blue')\n",
    "plt.plot(X_sorted, y_pred[sorted_idx], label=\"LWR Fit\", color='red')\n",
    "plt.xlabel('X')\n",
    "plt.ylabel('y')\n",
    "plt.title(f'Locally Weighted Regression (tau={tau})')\n",
    "plt.legend()\n",
    "plt.show()"
   ]
  },
  {
   "cell_type": "code",
   "execution_count": null,
   "id": "82a22ef3-529b-4fb4-bf41-f19955586098",
   "metadata": {},
   "outputs": [],
   "source": []
  }
 ],
 "metadata": {
  "kernelspec": {
   "display_name": "Python 3 (ipykernel)",
   "language": "python",
   "name": "python3"
  },
  "language_info": {
   "codemirror_mode": {
    "name": "ipython",
    "version": 3
   },
   "file_extension": ".py",
   "mimetype": "text/x-python",
   "name": "python",
   "nbconvert_exporter": "python",
   "pygments_lexer": "ipython3",
   "version": "3.12.7"
  }
 },
 "nbformat": 4,
 "nbformat_minor": 5
}
