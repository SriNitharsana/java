{
 "cells": [
  {
   "cell_type": "code",
   "execution_count": null,
   "id": "cfb575b5-c52e-4a86-b20e-a79790a1602e",
   "metadata": {},
   "outputs": [
    {
     "name": "stdout",
     "output_type": "stream",
     "text": [
      "Accuracy: 0.5\n",
      "\n",
      "Classification Report:\n",
      "               precision    recall  f1-score   support\n",
      "\n",
      "           0       0.00      0.00      0.00         1\n",
      "           1       0.50      1.00      0.67         1\n",
      "\n",
      "    accuracy                           0.50         2\n",
      "   macro avg       0.25      0.50      0.33         2\n",
      "weighted avg       0.25      0.50      0.33         2\n",
      "\n",
      "\n",
      "Enter your message to classify as HAM or SPAM (type 'exit' to quit):\n"
     ]
    },
    {
     "name": "stdin",
     "output_type": "stream",
     "text": [
      ">  i'll call you later\n"
     ]
    },
    {
     "name": "stdout",
     "output_type": "stream",
     "text": [
      "Prediction: HAM\n",
      "\n"
     ]
    }
   ],
   "source": [
    "import pandas as pd\n",
    "from sklearn.model_selection import train_test_split\n",
    "from sklearn.feature_extraction.text import TfidfVectorizer\n",
    "from sklearn.svm import SVC\n",
    "from sklearn.metrics import classification_report, accuracy_score\n",
    "\n",
    "# Step 1: Manually define your dataset here:\n",
    "# Add as many (label, message) pairs as you want\n",
    "manual_data = [\n",
    "    ('ham', 'Hey, are we still on for tonight?'),\n",
    "    ('spam', 'Win $1000 cash by clicking here!'),\n",
    "    ('ham', 'I’ll call you later.'),\n",
    "    ('spam', 'Congratulations! You have won a lottery. Reply YES to claim.'),\n",
    "    # Add your own data lines below:\n",
    "    ('ham', 'Can you send me the report?'),\n",
    "    ('spam', 'Urgent! Your account will be blocked. Verify now!'),\n",
    "    ('ham', 'Let’s catch up this weekend.'),\n",
    "    ('spam', 'You’ve been selected for a $500 Walmart gift card.')\n",
    "]\n",
    "\n",
    "# Convert manual data to DataFrame\n",
    "df = pd.DataFrame(manual_data, columns=['label', 'message'])\n",
    "\n",
    "# Encode labels\n",
    "df['label_num'] = df['label'].map({'ham': 0, 'spam': 1})\n",
    "\n",
    "# Vectorize text\n",
    "vectorizer = TfidfVectorizer(stop_words='english')\n",
    "X = vectorizer.fit_transform(df['message'])\n",
    "y = df['label_num']\n",
    "\n",
    "# Train-test split\n",
    "X_train, X_test, y_train, y_test = train_test_split(\n",
    "    X, y, test_size=0.25, random_state=42, stratify=y\n",
    ")\n",
    "\n",
    "# Train SVM\n",
    "svm = SVC(kernel='linear')\n",
    "svm.fit(X_train, y_train)\n",
    "\n",
    "# Evaluate\n",
    "y_pred = svm.predict(X_test)\n",
    "print(\"Accuracy:\", accuracy_score(y_test, y_pred))\n",
    "print(\"\\nClassification Report:\\n\", classification_report(y_test, y_pred, zero_division=0))\n",
    "\n",
    "# Manual input for predictions\n",
    "print(\"\\nEnter your message to classify as HAM or SPAM (type 'exit' to quit):\")\n",
    "while True:\n",
    "    user_msg = input(\"> \")\n",
    "    if user_msg.lower() == 'exit':\n",
    "        print(\"Exiting.\")\n",
    "        break\n",
    "    user_vec = vectorizer.transform([user_msg])\n",
    "    pred = svm.predict(user_vec)[0]\n",
    "    label = \"SPAM\" if pred == 1 else \"HAM\"\n",
    "    print(f\"Prediction: {label}\\n\")\n"
   ]
  },
  {
   "cell_type": "code",
   "execution_count": null,
   "id": "d9b17e66-98b3-484e-b2dd-98bd2e99fa8f",
   "metadata": {},
   "outputs": [],
   "source": []
  }
 ],
 "metadata": {
  "kernelspec": {
   "display_name": "Python 3 (ipykernel)",
   "language": "python",
   "name": "python3"
  },
  "language_info": {
   "codemirror_mode": {
    "name": "ipython",
    "version": 3
   },
   "file_extension": ".py",
   "mimetype": "text/x-python",
   "name": "python",
   "nbconvert_exporter": "python",
   "pygments_lexer": "ipython3",
   "version": "3.12.7"
  }
 },
 "nbformat": 4,
 "nbformat_minor": 5
}
